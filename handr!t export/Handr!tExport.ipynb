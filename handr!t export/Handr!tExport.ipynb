{
 "cells": [
  {
   "attachments": {},
   "cell_type": "markdown",
   "id": "802c3328-e40c-45ab-9243-1e0926e6efa5",
   "metadata": {},
   "source": [
    "# Handrít.is – Datenexport\n",
    "\n",
    "Dieses Notebook enthält ein Script, das einen **Datenexport** von **handrit.is** ermöglicht.\\\n",
    "Handrít ist eine Datenbank, die fast sämtliche isländische/westnordische Handschriften enthält.\\\n",
    "Nützlich für die Forschung von GeisteswissenschaftlerInnen ist insbesondere ein Schlagwortsystem, das das Auffinden von Manuskripten ermöglicht."
   ]
  },
  {
   "cell_type": "markdown",
   "id": "c7ac3bb9-fe5a-4cfc-a137-67144d1edb91",
   "metadata": {},
   "source": [
    "## Technische Voraussetzungen\n",
    "* Diese Datei ist ein [*Jupyter Notebook*](https://de.m.wikipedia.org/wiki/Project_Jupyter#Jupyter_Notebook) und verwendet die Programmiersprache [*Python*](https://de.m.wikipedia.org/wiki/Python_(Programmiersprache)).\n",
    "* Um das Notebook **lokal** zu verwenden, musst du die Dateien herunterladen und sowohl Python als auch Jupyter-Notebook auf deinem Rechner installieren. Es gibt im Web massenhaft Tutorials zur Installation der beiden Komponenten. Python kann direkt von der offiziellen [Website](https://www.python.org/downloads/) der *Python Software Foundation* heruntergeladen und als .exe installiert werden (bei der Installation sollte unbedingt die Option gewählt werden, Python zum **PATH** hinzuzufügen!). Das Projekt Jupyter bietet ein ausführliches [Installations-Tutorial](https://jupyter.org/install) auf seiner Website.\n",
    "* Möchtest du Python & Jupyter nicht installieren, kannst du das Notebook stattdessen in einer Browserapplikation laden. Hierzu bietet sich z. B. [Google Colaboratory](https://colab.research.google.com/) an.\n",
    "* Falls du dich vertieft mit Python auseinandersetzen möchtest, existieren im Web viele gute (und leider auch unfassbar viele schlechte) Ressourcen. Ich persönlich kann die Videos des Hamburger Mathematikers [Edmund Weitz](https://www.youtube.com/@WeitzHAWHamburg/featured) sowie des Informatik-Professors [Jens Dittrich](https://www.youtube.com/@jensdit) von der Uni Saarland empfehlen. Beide bieten sowohl Zugang zu den absoluten Grundlagen als auch zu fortgeschritteneren und interessanteren Aspekten des Programmierens."
   ]
  },
  {
   "cell_type": "markdown",
   "id": "a723ed76-9eaa-47e7-8c4d-dc6ce38a3ecb",
   "metadata": {},
   "source": [
    "## Grundlagen\n",
    "* Die Keywords (auf Englisch) sind unter [https://handrit.is/manuscript/browse/keyword?lang=en](https://handrit.is/manuscript/browse/keyword?lang=en) durchsuchbar.\n",
    "* **Wichtig:** Öffnet man eine Seite, muss man sich alle Manuskripte anzeigen lassen, indem man \"Show all\" klickt: ![show all](show_all_handr!t.png)"
   ]
  },
  {
   "cell_type": "markdown",
   "id": "1e1b156f-19b3-4804-9472-e14b2090f870",
   "metadata": {},
   "source": [
    "## Variablen befüllen\n",
    "* Im nächsten Schritt musst du zwei Variablen für das Script definieren:\n",
    "* **Url** ist die Website des Verzeichnisses, das du exportieren möchtest. **Wichtig:** Du solltest \"show all\" geklickt haben, sodass am Ende deiner URL die Anzahl der Einträge steht (z. B.: https://handrit.is/manuscript/list/keyword/kon?**size=289**) – **zudem:** die URL muss in Anführungszeichen (\"\") stehen, sodass Python es als String-Datentyp erkennt!\n",
    "* **output_name** ist der Dateiname der Textdatei, die als Ergebnis im selben Ordner erstellt wird, wo du auch das Notebook gespeichert hast. By default heißt die .txt-Datei \"handrit_output.txt\". Du kannst sie ändern, wichtig ist, dass der Name in Anführungszeichen steht!"
   ]
  },
  {
   "cell_type": "markdown",
   "id": "28bd051d-2c6b-47c8-8c2a-16cef6a9a963",
   "metadata": {},
   "source": [
    "## Hier definieren:"
   ]
  },
  {
   "cell_type": "code",
   "execution_count": 36,
   "id": "f9d25e77-bef0-45fa-a13b-e2bc249d19d6",
   "metadata": {},
   "outputs": [],
   "source": [
    "Url = \"https://handrit.is/manuscript/list/keyword/mannfr?lang=en&size=92\"\n",
    "output_name = \"handrit_output.txt\""
   ]
  },
  {
   "cell_type": "markdown",
   "id": "d001306f-62de-46d7-8d00-653eb41fa9dc",
   "metadata": {},
   "source": [
    "## Script starten\n",
    "* Starte nun das Script, indem du oben in der Kontrollleiste auf **\"Run\" > \"Run all cells\"** klickst. Alternativ kannst du einzelne Zellen über \"Shift\" + \"Enter\" individuell ausführen.\r",
    "* Nach ein paar Sekunden kannst du unten das Ergebnis sehen.\n",
    "* Den auszuführenden Programmcode kannst du in der nächsten Zelle sehen."
   ]
  },
  {
   "cell_type": "code",
   "execution_count": 47,
   "id": "dddaebae-fe63-4a41-a19d-caff3fb0fed5",
   "metadata": {},
   "outputs": [],
   "source": [
    "# Alle nächsten Schritte und Variablen dürfen nicht geändert werden, da sie das Programm steuern!\n",
    "## Import der verwendeten Module:\n",
    "import requests\n",
    "from bs4 import BeautifulSoup as BS\n",
    "\n",
    "## Listen für die Ergebnisse:\n",
    "safn_list = []\n",
    "second_list = []\n",
    "title_list = []\n",
    "loc_list = []\n",
    "date_list = []\n",
    "temp_list = []\n",
    "\n",
    "\n",
    "## Variablen um die Funktionen zu befüllen:\n",
    "r = requests.get(Url)\n",
    "soup = BS(r.text)\n",
    "\n",
    "\n",
    "## Die einzelnen Kolumnen des Verzeichnisses durch die Funktion \"find_all\" des Moduls \"Beautifulsoup\" in Variablen speichern:\n",
    "safn = soup.find_all('div', class_='col-6 col-lg-2')\n",
    "second = soup.find_all('div', class_='col-12 col-lg-8')\n",
    "for i in safn:\n",
    "    entry = i.get_text()\n",
    "    safn_list.append(entry)\n",
    "del safn_list[0]\n",
    "for i in second:\n",
    "    second_list.append(i.get_text(separator=\"|\"))\n",
    "for i in second_list:\n",
    "    temp_list = i.split(sep=\"|\")\n",
    "    title_list.append(temp_list[0])\n",
    "    if \"; \" in temp_list:\n",
    "        temp_list.remove(\"; \")\n",
    "    if \", \" in temp_list:\n",
    "        temp_list.remove(\", \")\n",
    "    if len(temp_list) == 3:\n",
    "        loc_list.append(temp_list[1])\n",
    "        date_list.append(temp_list[2])\n",
    "    if len(temp_list) == 1:\n",
    "        loc_list.append(\"empty\")\n",
    "        date_list.append(\"empty\")\n",
    "    if len(temp_list) == 2:\n",
    "        if temp_list[1][-1].isnumeric() == True:\n",
    "            date_list.append(temp_list[1])\n",
    "            loc_list.append(\"empty\")\n",
    "        else:\n",
    "            loc_list.append(temp_list[1])\n",
    "            date_list.append(\"empty\")\n",
    "        "
   ]
  },
  {
   "cell_type": "markdown",
   "id": "f9d5a593-684d-4465-8976-db9ef3c0812a",
   "metadata": {},
   "source": [
    "## Ergebnis:\n",
    "In der übernächsten Zelle findest du dein Resultat: Jede Zeile ist eine Handschrift deiner Liste. Die Einträge sind mit Semikolon \";\" getrennt, sodass du sie als CSV in Excel oder Sheets einfügen kannst. Gleichzeitig wird eine Textfile auf deine Festplatte geschrieben, die den Output enthält. Du solltest sie in deinem \"User\" Ordner als \"handrit_output.txt\" finden. Benutze alternativ die Suchfunktion deines Rechners. Viel Erfolg bei deiner Forschung!"
   ]
  },
  {
   "cell_type": "code",
   "execution_count": 50,
   "id": "9d83ed62-9232-4a9f-8ad0-7a91d03d9fec",
   "metadata": {
    "scrolled": true
   },
   "outputs": [
    {
     "name": "stdout",
     "output_type": "stream",
     "text": [
      "ÍB 101 8vo;Samtíningur;Ísland;1823\n",
      "ÍB 161 8vo;Samtíningur;Ísland;1845-1853\n",
      "ÍB 252 8vo;Samtíningur;Ísland;1820\n",
      "ÍB 254 8vo;Guðfræði og minnisbók;Ísland;1700-1799\n",
      "ÍB 278 b 8vo;Samtíningur;Ísland;1660\n",
      "ÍB 291 8vo;Samtíningur;Ísland;1851\n",
      "ÍB 310 8vo;Ósamstæður tíningur;Ísland;1700-1899\n",
      "ÍB 357 8vo;Frá prestum á Völlum;Ísland;1850\n",
      "ÍB 400 8vo;Samtíningur;Ísland;1790-1815\n",
      "ÍB 651 8vo;Samtíningur;Ísland;1700-1899\n",
      "ÍB 776 8vo;Samtíningur;Ísland;1740-1750\n",
      "ÍB 782 8vo;Samtíningur;Ísland;1875\n",
      "ÍBR 6 4to;Sögubók og fræði;Ísland;1820\n",
      "JS 3 fol.;Samtíningur;empty;1851\n",
      "JS 36 fol.;Ævisaga Skúla landfógeta Magnússonar;empty;1700-1800\n",
      "JS 42 fol.;Annálasafn;empty;1700-1900\n",
      "JS 43 fol.;Málskjöl ýmis;empty;1704-1726\n",
      "JS 64 fol.;Samtíningur;empty;1700-1900\n",
      "JS 81 fol.;Safn til prestatals á Íslandi;empty;1789\n",
      "JS 82 fol.;Samtíningur;empty;1600-1900\n",
      "JS 85 fol.;Samtíningur;empty;1700-1900\n",
      "JS 104 fol.;Samtíningur;empty;1837-1843\n",
      "JS 109 fol.;Heiðurs- og doktorsskjöl;empty;1800-1900\n",
      "JS 124 fol.;Bréf og uppköst að ritgerðum eftir Grunnavíkur-Jón;Ísland;1735-1770\n",
      "JS 64 4to;Samtíningur lagalegs efnis;Iceland;1780-1850\n",
      "JS 66 4to;Samtíningur;Iceland;1700-1800\n",
      "JS 89 4to;Lögmannatal;Iceland;1835\n",
      "JS 98 4to;Fræðimannatal Einars Bjarnasonar frá Starrastöðum;Iceland;1836\n",
      "JS 103 4to;Rithöfundatal;Iceland;1868\n",
      "JS 104 4to;Rithöfundatal;Iceland;1868\n",
      "JS 105 4to;Rithöfundatal;Iceland;1868\n",
      "JS 106 4to;Rithöfundatal;Iceland;1868\n",
      "JS 129 4to;Prestatal;Iceland;1845\n",
      "JS 179 4to;Historia chronographica og rektorar Skálholts Dómkirkjuskóla;Iceland;1720-1730\n",
      "JS 181 4to;Ýmis rit og bréf;Iceland;1700-1800\n",
      "JS 207 4to;Ævisaga séra Þorsteins Péturssonar;Iceland;1750-1782\n",
      "JS 216 4to;Bréfabók;Iceland;empty\n",
      "JS 217 4to;Minnisgreinar og smáritgerðir;Iceland;1820-1840\n",
      "JS 221 4to;Embættismannatal og konungstekjur;Iceland;1800\n",
      "JS 226 4to;Hólabiskupasögur;Iceland;1767\n",
      "JS 229 4to;Blanda;Iceland;1750\n",
      "JS 233 4to;Hirðstjóra registur;Iceland;1840\n",
      "JS 646 4to;Um júblikennendur og prófastatal;Iceland;1840\n",
      "JS 116 8vo;Samtíningur;Iceland;1700-1900\n",
      "JS 122 8vo;Þættir;Iceland;1860\n",
      "JS 124 8vo;Þættir;Iceland;1860\n",
      "JS 156 8vo;Orðkviðaklasi og erfiljóð;Iceland;1700-1850\n",
      "JS 244 8vo;Kvæðabók;empty;1800-1820\n",
      "JS 362 8vo;Versio yfir tvö fyrstu Memorabilibus;empty;1820\n",
      "JS 370 8vo;Martyrologia sanctorum in Calindario;empty;1800\n",
      "JS 390 8vo;Miscellanea I;empty;1700-1900\n",
      "JS 398 8vo;Miscellanea IX;empty;1830-1835\n",
      "JS 405 8vo;Sagnabók;Ísland;1780-1791\n",
      "JS 435 8vo;Rímnasafn VIII;empty;1800-1900\n",
      "Lbs 310 fol.;Kaupstaðarseðlar Clausensverslunar, 1. bindi;empty;empty\n",
      "Lbs 311 fol.;Kaupstaðarseðlar Clausensverslunar, 2. bindi;empty;empty\n",
      "Lbs 312 fol.;Prestasögur um Skálholtsbiskupsdæmi;empty;empty\n",
      "Lbs 358 fol.;Kontornotitskalender ... for året 1906;empty;empty\n",
      "Lbs 165 4to;Embættismannatöl og ævisögur;Iceland;1800-1850\n",
      "Lbs 181 4to;Samtíningur;Ísland;1700-1799\n",
      "Lbs 265 4to;Familiæ Haukdalensium, Oddensium, Svinfellensium et Skagfiordensium;Ísland;1760-1780\n",
      "Lbs 302 4to;Innsiglasafn;Ísland;1800-1899\n",
      "Lbs 382 4to;Lögmannaævir;Ísland;1841\n",
      "Lbs 383 4to;Sýslumannaævir í Norðlendingafjórðungi;Ísland;1790-1810\n",
      "Lbs 384 4to;Sýslumannaævir, I. bindi;Ísland;1800-1849\n",
      "Lbs 385 4to;Sýslumannaævir, II. bindi;Ísland;1800-1849\n",
      "Lbs 386 4to;Sýslumannaævir, III. bindi;Ísland;1800-1849\n",
      "Lbs 387 4to;Sýslumannaævir, IV. bindi;Ísland;1800-1849\n",
      "Lbs 388 4to;Sýslumannaævir, V. bindi;Ísland;1800-1849\n",
      "Lbs 389 4to;Sitthvað, I. bindi;Ísland;1750-1780\n",
      "Lbs 391 4to;Sitthvað, III. bindi;Ísland;1600-1799\n",
      "Lbs 392 4to;Sitthvað, IV. bindi;Ísland;1700-1899\n",
      "Lbs 394 4to;Stúdentatal 1800-1860;Ísland;1840-1865\n",
      "Lbs 762 4to;Rit Jóns Guðmundssonar lærða;Ísland;1760\n",
      "Lbs 771 4to;Samtíningur;Ísland;1700-1900\n",
      "Lbs 859 4to;Nafnaskrá;Ísland;1860-1880\n",
      "Lbs 1164 4to;Ýmislegt frá Gísla Konráðssyni;Ísland;1700-1799\n",
      "Lbs 2216 4to;Dagbækur Magnúsar Hj. Magnússonar;Ísland;1890-1916\n",
      "Lbs 2235 4to;Gríma. Skrif Magnúsar Hj. Magnússonar;Ísland;1898-1909\n",
      "Lbs 2285 4to;Amlóði. Safn af frásögnum og ritum;Ísland;1892-1895\n",
      "Lbs 2295 4to;Emma. Safn af fróðlegum Íslenskum frásögnum;Iceland;1887-1889\n",
      "Lbs 2296 4to;Yngvi. Safn af fróðlegum frásögnum;Iceland;1898\n",
      "Lbs 2313 4to;Söguþættir og samtíningur;Iceland;1840-1850\n",
      "Lbs 2618 4to;Skálda-, rithöfunda- og fræðimannatal;Ísland;1800-1899\n",
      "Lbs 2856 4to;Syrpa Gísla Konráðssonar;Ísland;1850-1870\n",
      "Lbs 4452 4to;Syrpa;Ísland;1850-1899\n",
      "Lbs 97 8vo;Sögubók;Ísland;1700-1799\n",
      "Lbs 231 8vo;Samtíningur;Ísland;1700-1899\n",
      "Lbs 276 8vo;Nafnaskrá úr Heimskringlu;Ísland;1830\n",
      "Lbs 1394 8vo;Samtíningur;Iceland;1800-1899\n",
      "Lbs 1929 8vo;Skrá yfir bækur Hannesar Finnssonar og Mínir þankar um mig til mín;Ísland;1762-1770\n",
      "Lbs 2006 8vo;Söguþættir og fleira;Iceland;1860-1874\n",
      "\n"
     ]
    }
   ],
   "source": [
    "file = open(output_name, \"w\")\n",
    "file.close()\n",
    "for i in range(len(title_list)):\n",
    "    line = \";\".join([safn_list[i],title_list[i],loc_list[i],date_list[i]])+\"\\n\"\n",
    "\n",
    "    with open(output_name, \"a\") as output:\n",
    "        output.write(line)\n",
    "out = open(output_name, \"r\")\n",
    "print(out.read())\n",
    "out.close()"
   ]
  },
  {
   "cell_type": "code",
   "execution_count": null,
   "id": "cf84ad7a-74a7-4427-a8fe-b5b730757a1d",
   "metadata": {},
   "outputs": [],
   "source": []
  },
  {
   "cell_type": "code",
   "execution_count": null,
   "id": "876fea94-0f42-471f-90cc-40f9c21a3640",
   "metadata": {},
   "outputs": [],
   "source": []
  }
 ],
 "metadata": {
  "kernelspec": {
   "display_name": "Python 3 (ipykernel)",
   "language": "python",
   "name": "python3"
  },
  "language_info": {
   "codemirror_mode": {
    "name": "ipython",
    "version": 3
   },
   "file_extension": ".py",
   "mimetype": "text/x-python",
   "name": "python",
   "nbconvert_exporter": "python",
   "pygments_lexer": "ipython3",
   "version": "3.12.1"
  }
 },
 "nbformat": 4,
 "nbformat_minor": 5
}
