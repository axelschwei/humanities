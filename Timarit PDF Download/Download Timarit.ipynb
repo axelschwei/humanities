{
 "cells": [
  {
   "cell_type": "code",
   "execution_count": 35,
   "id": "3e3051b1-b256-48ae-95ec-a0ec2b4b2867",
   "metadata": {},
   "outputs": [],
   "source": [
    "# ein süßes, putziges kleines script, mit dem man pdf-seiten von tímarit downloaden und diese gleich zu einer PDF mergen kann.\n",
    "# WICHTIG: Die Dateien erscheinen im Ordner, wo auch das Script liegt! Nach Verwendung sollten die PDFs verschoben oder gelöscht werden.\n",
    "\n",
    "# Library zum Download von Website\n",
    "from urllib.request import urlretrieve as urlrtr\n",
    "\n",
    "# Library zum mergen der einzelnen PDFs\n",
    "from pypdf import PdfWriter\n",
    "merger = PdfWriter()\n",
    "\n",
    "# Diese URL nicht ändern, wenn man von timarit laden möchte\n",
    "base_url = \"https://timarit.is/files/\"\n",
    "\n",
    "# PDF-Ansicht der ersten Seite des Dokuments. Nun die Zahl am Ende der URL eingeben:\n",
    "start_nr = 52542582\n",
    "\n",
    "# ... nun das selbe mit der zweiten Seite machen:\n",
    "nr_s2 = 52542587\n",
    "schritt = nr_s2 - start_nr\n",
    "\n",
    "# Die Seitenanzahl des gesamten Dokuments angeben:\n",
    "sum_seiten = 182\n",
    "\n",
    "# Ff nichts ändern\n",
    "filename = \"\"\n",
    "files_list = []\n",
    "for i in range(sum_seiten):\n",
    "    url_act = base_url+str(start_nr+(schritt*i))\n",
    "    filename = str(i+1)+\".pdf\"\n",
    "    files_list.append(filename)\n",
    "    urlrtr(url_act,filename)\n",
    "\n",
    "merger = PdfWriter()\n",
    "\n",
    "for pdf in files_list:\n",
    "    merger.append(pdf)\n",
    "\n",
    "# Hier kann der Dateiname des gemergten PDFs definiert werden:\n",
    "merger.write(\"Skúli Magnússon 1786 kort beskrivelse af Island = Bibliotheca Arnamagnæana V 1944.pdf\")\n",
    "merger.close()"
   ]
  },
  {
   "cell_type": "code",
   "execution_count": null,
   "id": "3973f94d-387a-484b-b338-c10d42e2216e",
   "metadata": {},
   "outputs": [],
   "source": []
  },
  {
   "cell_type": "code",
   "execution_count": null,
   "id": "0eb151b6-5821-4f0a-aec1-25e595d2cb81",
   "metadata": {},
   "outputs": [],
   "source": []
  }
 ],
 "metadata": {
  "kernelspec": {
   "display_name": "Python 3 (ipykernel)",
   "language": "python",
   "name": "python3"
  },
  "language_info": {
   "codemirror_mode": {
    "name": "ipython",
    "version": 3
   },
   "file_extension": ".py",
   "mimetype": "text/x-python",
   "name": "python",
   "nbconvert_exporter": "python",
   "pygments_lexer": "ipython3",
   "version": "3.12.1"
  }
 },
 "nbformat": 4,
 "nbformat_minor": 5
}
